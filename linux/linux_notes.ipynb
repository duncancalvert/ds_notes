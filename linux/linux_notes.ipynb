{
 "cells": [
  {
   "cell_type": "markdown",
   "metadata": {},
   "source": [
    "# Linux Notes"
   ]
  },
  {
   "cell_type": "markdown",
   "metadata": {},
   "source": [
    "## What is Linux\n",
    "* Free, open-source OS started in 1991 by Linus Torvalds. At the time Unix was a popular OS but was costly\n",
    "    * Unix was released in 1970 by Ken Thompson and Dennis Richie at Bell Labs\n",
    "* Linux is the most popular open-source OS in the world, used for most web servers\n",
    "\n",
    "The 3 core components of Linux:\n",
    "* <ins>Kernel</ins>: the core of the OS. When a computer starts up (\"boots\"), either the BIOS (Basic Input/Output System) or UEFI (Unified Extensible Firmware Interface) runs. \n",
    "    * BIOS is generally for older systems and UEFI is for newer ones. \n",
    "    * These run a \"bootloader\" that loads the kernel image (a compressed file that gets decompressed and loaded into memory when ran). \n",
    "    * The kernel then initilizes and starts up everything else that is required to run (drivers, software, etc.)\n",
    "* <ins>The system user space</ins>: an administrative layer that handles configuration and software installation.\n",
    "    * Includes the shell or command interpreter\n",
    "    * Includes daemons. Programs that run in the background to monitor subsystems. Daemons run without user interaction\n",
    "* <ins>Applications</ins>: the main use for computers/Linux.\n",
    "    * Allows you to perform tasks\n",
    "    * Editors\n",
    "    * Web servers\n",
    "    * A graphical user interface\n",
    "\n",
    "Distributions\n",
    "* Different Linux versions packaged by separate orgs or companies. \n",
    "* They all share the same core kernel but the other two layers can be different\n",
    "* Common distros\n",
    "    * Red Hat\n",
    "        * CentOS\n",
    "        * Red Hat Enterprise (RHEL)\n",
    "        * Fedora\n",
    "    * Ubuntu, based on Debian\n",
    "    * OpenSUSE, based on the the SUSE project\n",
    "\n",
    "Reliability\n",
    "* Linux is known for being very reliable with high uptimes\n",
    "* It only needs reboots with kernel updates\n",
    "* There is a new process called \"livepatch\" to minimize reboots\n",
    "* Always reboot your servers regularly as part of a maintenance cycle"
   ]
  },
  {
   "cell_type": "markdown",
   "metadata": {},
   "source": [
    "## Server Linux\n",
    "\n",
    "\n",
    "\n"
   ]
  },
  {
   "cell_type": "markdown",
   "metadata": {},
   "source": []
  }
 ],
 "metadata": {
  "language_info": {
   "name": "python"
  }
 },
 "nbformat": 4,
 "nbformat_minor": 2
}
