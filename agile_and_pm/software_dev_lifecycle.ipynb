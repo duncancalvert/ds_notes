{
 "cells": [
  {
   "cell_type": "markdown",
   "metadata": {},
   "source": [
    "# Software Development Lifecycle (SDLC)"
   ]
  },
  {
   "cell_type": "markdown",
   "metadata": {},
   "source": [
    "## What is SDLC\n",
    "* <ins>Software Development Lifecycle (SDLC)</ins>: a structured, repeatable process to document and define requirements, design, build, test, and deploy good quality software that meets the businesses needs.\n",
    "* Stages of SDLC\n",
    "    * Define\n",
    "    * Build\n",
    "    * Test\n",
    "    * Accept\n",
    "    * Deploy"
   ]
  },
  {
   "cell_type": "markdown",
   "metadata": {},
   "source": [
    "## Functional vs. Non Functional Requirements\n",
    "* <ins>Functional Requirement</ins>:\n",
    "* <ins>Non-Functional Requirement</ins>:"
   ]
  },
  {
   "cell_type": "markdown",
   "metadata": {},
   "source": [
    "## Customer User Journeys\n",
    "* <ins>User Journey</ins>: a sequence of tasks central to user experience and crucial to service"
   ]
  },
  {
   "cell_type": "markdown",
   "metadata": {},
   "source": [
    "## Good General Development Team Norms\n",
    "* Be Humble: You're smart yet always interested in learning from others\n",
    "* Work Transparently: You always deal in an honest, direct, and transparent way.\n",
    "* Take Ownership: You embrace responsibility and find joy in having the answers\n",
    "* Learn More: You regularly self-educate and improve your skill set.\n",
    "* Show Gratitude: You show appreciation and respect to those you work with."
   ]
  },
  {
   "cell_type": "markdown",
   "metadata": {},
   "source": [
    "## General Development Axioms\n",
    "\n",
    "* The cost of fixing errors increases exponentially the later they are found in the development cycle. This cost can come in the following forms:\n",
    "    * Time to fix the bugs and create post mortem docs (operational cost)\n",
    "    * Downtime caused by the bugs (loss of revenue)\n",
    "    * Reputational cost (loss of growth, customer trust, etc.) caused by the downtime."
   ]
  },
  {
   "cell_type": "markdown",
   "metadata": {},
   "source": []
  }
 ],
 "metadata": {
  "language_info": {
   "name": "python"
  }
 },
 "nbformat": 4,
 "nbformat_minor": 2
}
