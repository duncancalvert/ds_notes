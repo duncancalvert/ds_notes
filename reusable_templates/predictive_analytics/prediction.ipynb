{
 "cells": [
  {
   "attachments": {},
   "cell_type": "markdown",
   "metadata": {},
   "source": [
    "## Predictive Analytics Template - Structured Data\n",
    "\n",
    "Author: Duncan Calvert\n",
    "Last Modified Date: 9/24/24\n",
    "\n",
    "This template can be used for predictive analytics/ML for structured data sets. It has the following sections:\n",
    "\n",
    "\n"
   ]
  },
  {
   "cell_type": "code",
   "execution_count": null,
   "metadata": {},
   "outputs": [],
   "source": []
  },
  {
   "attachments": {},
   "cell_type": "markdown",
   "metadata": {},
   "source": []
  }
 ],
 "metadata": {
  "language_info": {
   "name": "python"
  },
  "orig_nbformat": 4
 },
 "nbformat": 4,
 "nbformat_minor": 2
}
