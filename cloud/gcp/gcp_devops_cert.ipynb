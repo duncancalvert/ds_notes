{
 "cells": [
  {
   "cell_type": "markdown",
   "metadata": {},
   "source": [
    "# GCP DevOps/SRE Cert Notes"
   ]
  },
  {
   "cell_type": "markdown",
   "metadata": {},
   "source": [
    "## Being a good DevOps Engineers is understanding BOPT\n",
    "* <ins>BOPT</ins>: Business, Organization, Process/Techniques, Technology/Tools. \n",
    "    * Business - External forces and revenue creation\n",
    "    * Organization - Internal forces and structure\n",
    "    * Process/Techniques - Human considerations\n",
    "    * Technology/Tools - Cloud services and the nuts and bolts of doing the job"
   ]
  },
  {
   "cell_type": "markdown",
   "metadata": {},
   "source": []
  }
 ],
 "metadata": {
  "language_info": {
   "name": "python"
  }
 },
 "nbformat": 4,
 "nbformat_minor": 2
}
