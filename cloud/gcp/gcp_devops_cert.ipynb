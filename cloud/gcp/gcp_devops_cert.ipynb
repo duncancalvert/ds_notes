{
 "cells": [
  {
   "cell_type": "markdown",
   "metadata": {},
   "source": [
    "# GCP DevOps/SRE Cert Notes"
   ]
  },
  {
   "cell_type": "markdown",
   "metadata": {},
   "source": [
    "## Being a good DevOps Engineers is understanding BOPT\n",
    "<ins>BOPT</ins>: Business, Organization, Process/Techniques, Technology/Tools. \n",
    "* Business - External forces and revenue creation\n",
    "* Organization - Internal forces and structure\n",
    "* Process/Techniques - Human considerations\n",
    "* Technology/Tools - Cloud services and the nuts and bolts of doing the job\n",
    "\n",
    "---\n",
    "\n",
    "## What is Site Reliability Engineering (SRE)/DevOps\n",
    "\n",
    "<ins>DevOps</ins>: developed in 2008 by Andrew Shafer and Patrick Debois. They defined it as \"a software engineering culture and practice, that aims at unifying software development and software operation.\"\n",
    "* DevOps is generally visualized as an infinity loop \n",
    "\n",
    "<ins>Site Reliability Engineering (SRE)</ins>: \"what happens when a software engineer is tasked with what used to be called operations\" - Ben Traynor (2003), Founder of Google Site Reliability Team\n",
    "\n",
    "### Key pillars of DevOps & SRE\n",
    "* Idea 1\n",
    "    * DevOps: Reduce organization silos\n",
    "        * Bridge teams together\n",
    "        * Increase communication\n",
    "        * Shared company vision\n",
    "    * SRE: Shared ownership, tooling, and techniques for developers and operations\n",
    "* Idea 2\n",
    "    * DevOps: Accept failure as normal\n",
    "        * Try to anticipate failures, but understand that incidents are bound to occur\n",
    "        * Failures help the team learn\n",
    "    * SRE: No-fault post mortems & SLO not met\n",
    "        * Don't fail the same way twice\n",
    "        * Track incidents (SLIs)\n",
    "        * Map SLIs to objectives (SLOs)\n",
    "* Idea 3\n",
    "    * DevOps: Implement gradual change\n",
    "        * Small updates are better than large ones\n",
    "        * Small updates are easier to review and rollback from\n",
    "    * SRE: reduce costs of failure\n",
    "        * Use limited \"canary\" rollouts in order to impact the fewest amount of users in the event of an issue\n",
    "        * Automate where possible\n",
    "* Idea 4\n",
    "    * DevOps: Leverage tooling & automation\n",
    "        * Reduces manual tasks which frees up more time to do other work\n",
    "        * CI/CD pipelines are the heart of this\n",
    "        * Fosters speed and consistency\n",
    "    * SRE: Automate this year's job away\n",
    "        * Automation is a force multiplier\n",
    "        * Automation centralizes mistakes and makes it easier to respond to issues\n",
    "* Idea 5\n",
    "    * DevOps: Measure everything\n",
    "        * Critical gauge of success or failure\n",
    "        * CI/CD needs full monitoring\n",
    "        * DevOps stresses synthetic, proactive monitoring (i.e. simulated user behavior)\n",
    "    * SREs: measure toil and reliability\n",
    "        * Key to SLOs and SLAs\n",
    "        * Aim to reduce repetetive manual labor (toil), in order to increase available engineering time\n",
    "        * Ensure measurement over time in order to view trends\n",
    "\n",
    "### Why \"reliability\"\n",
    "* An unstable service likely indicates a variety of issues\n",
    "* Reliability is the absence of errors and it must be attended to at all times, not just when their is an issue\n",
    "\n",
    "### 3 Goals of SRE\n",
    "1. Define availability (SLO)\n",
    "2. Determine level of availability (SLI)\n",
    "3. Detail what happens when availability fails (SLA)"
   ]
  },
  {
   "cell_type": "markdown",
   "metadata": {},
   "source": [
    "---\n",
    "\n",
    "## Service Level Indicators (SLI)\n",
    "\n",
    "* <ins>Service Level Indicator (SLI)</ins>: \"A carefully defined quantitative measure of some aspect of the level of service that is provided\". SLIs are metrics over time that define \"reliability\" - they are specific to a user journey such as request/response, data processing, or storage, that show how well a service is doing.\n",
    "    * Example SLIs:\n",
    "        * <ins>Request latency</ins>: how long it takes to return a response to a request\n",
    "        * <ins>Failure rate</ins>: a fraction of all rates received: (unsuccessful requests/all requests)\n",
    "        * <ins>Batch Throughput</ins>: proportion of time = data processing rate > than a threshold\n",
    "    * Example SLIs for a Request/Response:\n",
    "        * <ins>Availability</ins>: proportion of valid requests served successfully\n",
    "        * <ins>Latency</ins>: proportion of valid requests served faster than a certain threshold\n",
    "        * <ins>Quality</ins>: proportion of valid requests served maintaining quality\n",
    "    * Example SLIs for Data Processing:\n",
    "        * <ins>Freshness</ins>: proportion of valid data updated more recently than a threshold\n",
    "        * <ins>Correctness</ins>: proportion of valid data producing correct output\n",
    "        * <ins>Throughput</ins>: proportion of time where the data processing rate is faster than a threshold\n",
    "\n",
    "### Google's 4 Golden Signals (SLIs)\n",
    "* Latency: The time it takes for your service to fulfill a request\n",
    "* Errors: The rate at which your service fails\n",
    "* Traffic: How much demand is directed at your service\n",
    "* Saturation: A meausure of how close to fully utilized the service's resources are\n",
    "\n",
    "### Simple SLI Aggregation Equation\n",
    "\n",
    "$SLI = \\left( \\frac{\\text{good events}}{\\text{valid events}} \\right) \\times 100$\n",
    "\n",
    "### SLI Best Practice\n",
    "1. Limit the number of SLIs you choose\n",
    "    * 3-5 per user journey as too many increases the difficulty for the operator and can lead to data contradictions\n",
    "2. Reduce complexity\n",
    "    * Define simple, discrete SLIs that can be calculated with little compute\n",
    "3. Prioritize journeys\n",
    "    * Identify user-centric events/journeys and prioritize those over developer-centric ones\n",
    "4. Aggregate similar SLIs\n",
    "    * Collect data over time and turn it into a rate, average, or percentile\n",
    "5. Bucket to distinguish response classes\n",
    "    * Not all requests are the same (some may be people, bots, or background apps)\n",
    "6. Collect data at load balancer\n",
    "    * It's the most efficient method of data collection and it's the closest to the user's experience\n"
   ]
  },
  {
   "cell_type": "markdown",
   "metadata": {},
   "source": [
    "---\n",
    "\n",
    "## Service Level Objectives (SLO)\n",
    "* <ins>Service Level Objectives</ins>: \"SLOs specify a target level for the reliability of your service\" - Steven Thurgood and David Ferguson, The Site Reliability Workbook. Your SLOs should always be < 100% reliability as it's very expensive to get near 100%, it becomes more technically complex, and users generally don't need 100% to have an acceptable experience.\n",
    "    * SLOs are measured by SLIs and can be a single target value or a range of values\n",
    "    * SLOs are agreed-upon bounds regarding how often SLIs must be met. For example:\n",
    "        * SLI = site page latency requests < 300ms over last 5 minutes @ 95%\n",
    "        * SLO = 95% percentile homepage SLI will succeed 99.9% over next year\n",
    "    * SLOs need buy-in across the entire organization\n",
    "    * Make your SLOs achievable and base them on past performance, if there is no historical data, collect some\n",
    "    * Reminder that measurement does not equal user satisfaction\n",
    "\n",
    "### Aspirational SLOs\n",
    "* Typically higher than achievable/standard SLOs\n",
    "* Set a reasonable target and begin measuring \n",
    "* Compare user feedback with SLOs and ensure they align\n"
   ]
  },
  {
   "cell_type": "markdown",
   "metadata": {},
   "source": [
    "---\n",
    "\n",
    "## Service Level Agreement (SLA)"
   ]
  },
  {
   "cell_type": "markdown",
   "metadata": {},
   "source": [
    "* <ins>Service Level Agreement (SLA)</ins>:"
   ]
  },
  {
   "cell_type": "markdown",
   "metadata": {},
   "source": []
  }
 ],
 "metadata": {
  "language_info": {
   "name": "python"
  }
 },
 "nbformat": 4,
 "nbformat_minor": 2
}
