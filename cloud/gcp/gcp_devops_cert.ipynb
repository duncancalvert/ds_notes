{
 "cells": [
  {
   "cell_type": "markdown",
   "metadata": {},
   "source": [
    "# GCP DevOps/SRE Cert Notes"
   ]
  },
  {
   "cell_type": "markdown",
   "metadata": {},
   "source": [
    "## Being a good DevOps Engineers is understanding BOPT\n",
    "<ins>BOPT</ins>: Business, Organization, Process/Techniques, Technology/Tools. \n",
    "* Business - External forces and revenue creation\n",
    "* Organization - Internal forces and structure\n",
    "* Process/Techniques - Human considerations\n",
    "* Technology/Tools - Cloud services and the nuts and bolts of doing the job\n",
    "\n",
    "---\n",
    "\n",
    "## What is Site Reliability Engineering (SRE)/DevOps\n",
    "\n",
    "<ins>DevOps</ins>: developed in 2008 by Andrew Shafer and Patrick Debois. They defined it as \"a software engineering culture and practice, that aims at unifying software development and software operation.\"\n",
    "* DevOps is generally visualized as an infinity loop \n",
    "\n",
    "<ins>Site Reliability Engineering (SRE)</ins>: \"what happens when a software engineer is tasked with what used to be called operations\" - Ben Traynor (2003), Founder of Google Site Reliability Team\n",
    "\n",
    "### Key pillars of DevOps & SRE\n",
    "* Idea 1\n",
    "    * DevOps: Reduce organization silos\n",
    "        * Bridge teams together\n",
    "        * Increase communication\n",
    "        * Shared company vision\n",
    "    * SRE: Shared ownership, tooling, and techniques for developers and operations\n",
    "* Idea 2\n",
    "    * DevOps: Accept failure as normal\n",
    "        * Try to anticipate failures, but understand that incidents are bound to occur\n",
    "        * Failures help the team learn\n",
    "    * SRE: No-fault post mortems & SLO not met\n",
    "        * Don't fail the same way twice\n",
    "        * Track incidents (SLIs)\n",
    "        * Map SLIs to objectives (SLOs)\n",
    "* Idea 3\n",
    "    * DevOps: Implement gradual cahnge\n",
    "        * Small updates are better than large ones\n",
    "        * Small updates are easier to review and rollback from\n",
    "    * SRE: reduce costs of failure\n",
    "        * Use limited \"canary\" rollouts in order to impact the fewest amount of users in the event of an issue\n",
    "        * Automate where possible\n",
    "* Idea 4\n",
    "    * DevOps: Leverage tooling & automation\n",
    "        * Reduces manual tasks which frees up more time to do other work\n",
    "        * CI/CD pipelines are the heart of this\n",
    "        * Fosters speed and consistency\n",
    "    * SRE: Automate this year's job away\n",
    "        * Automation is a force multiplier\n",
    "        * Automation centralizes mistakes and makes it easier to respond to issues\n",
    "* Idea 5\n",
    "    * DevOps: Measure everything\n",
    "        * Critical gauge of success or failure\n",
    "        * CI/CD needs full monitoring\n",
    "        * DevOps stresses synthetic, proactive monitoring (i.e. simulated user behavior)\n",
    "    * SREs: measure toil and reliability\n",
    "        * Key to SLOs and SLAs\n",
    "        * Aim to reduce repetetive manual labor (toil), in order to increase available engineering time\n",
    "        * Ensure measurement over time in order to view trends\n",
    "\n",
    "### Why \"reliability\"\n",
    "* An unstable service likely indicates a variety of issues\n",
    "* Reliability is the absence of errors and it must be attended to at all times, not just when their is an issue\n",
    "\n",
    "### 3 Goals of SRE\n",
    "1. Define availability (SLO)\n",
    "2. Determine level of availability (SLI)\n",
    "3. Detail what happens when availability fails (SLA)"
   ]
  },
  {
   "cell_type": "markdown",
   "metadata": {},
   "source": [
    "---\n",
    "\n",
    "## Service Level Indicators (SLIs)\n",
    "\n",
    "* <ins>Service Level Indicator (SLI)</ins>: \"A carefully defined quantitative measure of some aspect of the level of service that is provided\". SLIs are metrics over time that define \"reliability\" - they are specific to a user journey such as request/response, data processing, or storage - that show how well a service is doing.\n",
    "    * Example SLIs:\n",
    "        * Request latency: how long it takes to return a response to a request\n",
    "        * Failure rate: a fraction of all rates received: (unsuccessful requests/all requests)\n",
    "        * Batch Throughput: proportion of time = data processing rate > than a threshold\n",
    "\n"
   ]
  },
  {
   "cell_type": "markdown",
   "metadata": {},
   "source": []
  }
 ],
 "metadata": {
  "language_info": {
   "name": "python"
  }
 },
 "nbformat": 4,
 "nbformat_minor": 2
}
