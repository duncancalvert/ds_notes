{
 "cells": [
  {
   "cell_type": "markdown",
   "metadata": {},
   "source": [
    "# Math Notes"
   ]
  },
  {
   "cell_type": "markdown",
   "metadata": {},
   "source": [
    "## Best Books\n",
    "* [Everything You Always Wanted To Know About Mathematics: A Guided Journey Into the World of Abstract Mathematics and the Writing of Proofs by Brendan W. Sullivan and John Mackey](https://www.math.cmu.edu/~jmackey/151_128/bws_book.pdf)"
   ]
  },
  {
   "cell_type": "code",
   "execution_count": null,
   "metadata": {
    "vscode": {
     "languageId": "plaintext"
    }
   },
   "outputs": [],
   "source": []
  }
 ],
 "metadata": {
  "language_info": {
   "name": "python"
  }
 },
 "nbformat": 4,
 "nbformat_minor": 2
}
