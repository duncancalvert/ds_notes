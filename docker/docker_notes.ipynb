{
 "cells": [
  {
   "cell_type": "markdown",
   "metadata": {},
   "source": [
    "# Docker Notes"
   ]
  },
  {
   "cell_type": "markdown",
   "metadata": {},
   "source": [
    "## What is Docker\n",
    "* Open-source containerization platform that is designed for running small containers or images of your software\n",
    "* <ins>A Docker container</ins>: a lightweight, standalone, executable package of software that includes everythign needed to run an application: code, runtime, system tools, system libraries, and settings. Container images become containers at runtime and in the case of Docker containers - images become containers when they run on Docker Engine.\n",
    "* Docker benefits:\n",
    "    * The containers contain everything required to run the application\n",
    "    * Easy and quick to deploy\n",
    "    * They don't have to be 100% self-contained\n",
    "        * For example, a web server container can connect to a database or shared storage server\n",
    "    * You can have hundreds of containers serving the same or different content and dynamically set them to autoscale\n",
    "        * For example, you can set a up a website to run on a few docker containers but dynamically autoscale to more if traffic spikes\n",
    "    * It's good for development/developers since it has the same code environment on all developer environments \n",
    "\n",
    "### Docker isn't really virtualization\n",
    "* Even though it looks like virtualization, containers use cut-down versions of Linux\n",
    "* They use functions of the host OS\n",
    "* Containers can be set to only use certain amounts of resources (Memory/CPU)\n"
   ]
  },
  {
   "cell_type": "markdown",
   "metadata": {},
   "source": []
  }
 ],
 "metadata": {
  "language_info": {
   "name": "python"
  }
 },
 "nbformat": 4,
 "nbformat_minor": 2
}
