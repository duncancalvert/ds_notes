{
 "cells": [
  {
   "attachments": {},
   "cell_type": "markdown",
   "metadata": {},
   "source": [
    "## Table of Contents\n",
    "\n",
    "1. [General Vocabulary](#General-Vocabulary)\n",
    "2. [Feature Engineering](#Feature-Engineering)\n",
    "    1. [One Hot Encoding](#One-Hot-Encoding-(OHE))\n",
    "    2. [Bag of Words](#Bag-of-Words-(BoW))\n",
    "    3. [NGrams](#NGrams)\n",
    "    4. [TF-IDF](#TF-IDF)\n",
    "    3. [Word Embeddings](#Word_Embeddings)\n"
   ]
  },
  {
   "attachments": {},
   "cell_type": "markdown",
   "metadata": {},
   "source": [
    "## General Vocabulary\n",
    "\n",
    "* <ins>Corpus</ins>: All words in a dataset\n",
    "* <ins>Vocabulary</ins>: Unique words in a dataset\n",
    "* <ins>Document</ins>: a single unique record in a dataset\n",
    "* <ins>Word</ins>: a single word in a document\n",
    "\n",
    "\n",
    "![General NLP vocab](supporting_images/NLP_general_vocab.png \"Corpus example\")"
   ]
  },
  {
   "attachments": {},
   "cell_type": "markdown",
   "metadata": {},
   "source": [
    "## Feature Engineering <a class=\"anchor\" id=\"feature_engineering\"></a>\n",
    "\n",
    "Feature Engineering, also known as \"feature extraction\", \"text representation\", or \"text vectorization\" is an integral step that allows us to represent text as numbers (feature vectors). This is required when working on NLP problem as computers can only understand numbers, not text in its raw form. Various approaches are covered below."
   ]
  },
  {
   "attachments": {},
   "cell_type": "markdown",
   "metadata": {},
   "source": [
    "### One Hot Encoding (OHE)"
   ]
  },
  {
   "attachments": {},
   "cell_type": "markdown",
   "metadata": {},
   "source": [
    "### Bag of Words (BoW)"
   ]
  },
  {
   "attachments": {},
   "cell_type": "markdown",
   "metadata": {},
   "source": [
    "### NGrams <a name=\"ngrams\"></a>"
   ]
  },
  {
   "attachments": {},
   "cell_type": "markdown",
   "metadata": {},
   "source": [
    "### TF-IDF <a name=\"tfidf\"></a>"
   ]
  },
  {
   "attachments": {},
   "cell_type": "markdown",
   "metadata": {},
   "source": [
    "### Word Embeddings <a name=\"word_embeddings\"></a>"
   ]
  },
  {
   "cell_type": "code",
   "execution_count": null,
   "metadata": {},
   "outputs": [],
   "source": []
  },
  {
   "attachments": {},
   "cell_type": "markdown",
   "metadata": {},
   "source": []
  }
 ],
 "metadata": {
  "language_info": {
   "name": "python"
  },
  "orig_nbformat": 4
 },
 "nbformat": 4,
 "nbformat_minor": 2
}
