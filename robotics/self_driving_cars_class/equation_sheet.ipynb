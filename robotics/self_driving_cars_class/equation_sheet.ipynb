{
 "cells": [
  {
   "cell_type": "markdown",
   "metadata": {},
   "source": [
    "# General Equation Notes\n",
    "\n",
    "## Lateral Acceleration Equation\n",
    "\n",
    "$a_{\\text{lat}} = \\frac{v^2}{R}$\n",
    "* $a_{\\text{lat}}$ = lateral acceleration\n",
    "* $v$ = velocity\n",
    "* $R$ = radius of curvature"
   ]
  },
  {
   "cell_type": "markdown",
   "metadata": {},
   "source": []
  },
  {
   "cell_type": "markdown",
   "metadata": {},
   "source": []
  }
 ],
 "metadata": {
  "language_info": {
   "name": "python"
  }
 },
 "nbformat": 4,
 "nbformat_minor": 2
}
