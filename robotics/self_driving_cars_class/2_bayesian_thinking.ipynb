{
 "cells": [
  {
   "cell_type": "markdown",
   "metadata": {},
   "source": [
    "# Course 2 - Bayesian Thinking\n",
    "* <ins>Bayes' Rule</ins>: named after the Rev. Thomas Bayes and allows for the possibility of an uncertain world, and the necessity of exploring said world to gather information to inform decisions.\n",
    "\n",
    "## Uncertainty\n",
    "* <ins>Control noise</ins>: response to a fixed input can change over time\n",
    "* <ins>State space</ins>: the set of all possible outcomes for a probabilistic event.\n",
    "    * For a coin the state space for a \"flip\" event can be written mathematically as {H, T}\n",
    "    * When calculating the truth table for $N$ events which each have a state space size of $x$, we need to make $x^N$ calculations. $x^N$ gets very big very fast as x or N get bigger (i.e. exponential complexity growth).\n",
    "\n",
    "## Probability\n",
    "* Probability and Statistics have an inverse relationship:\n",
    "    * Statistics starts with data and infers the underlying causes of said data\n",
    "    * Probability starts with causes and infers the underlying data of those causes.\n",
    "\n",
    "Complementary Outcomes (i.e. Probability of an Opposite Event) - Coins\n",
    "* For an unfair coin, the $P(Heads) = 0.7$ , so the $P(Tails) = 1 - P(Heads)$\n",
    "\n",
    "Simple Probability of Composite Events (i.e. two events occurring in a row, independently)\n",
    "* For a fair coin, the probability of two heads in a row is $P(H, H) = 0.5 * 0.5 = 0.25$\n",
    "* For an unfair coin, the probability of heads is $P(H) = 0.6$ . So the joint probability of $P(H, H) = 0.6 * 0.6 = 0.36$\n",
    "* For an unfair coin, the probability of heads is $P(H) = 1.0$ . So the joint probability of $P(H, H) = 1.0$ and the joint probability of $P(H, T) = 1.0 * 0.0 = 0.0$\n",
    "\n",
    "Probability of Composite Events Continued - Coins\n",
    "* For a fair coin, thrown 3 times, what is the probability that exactly one flip comes up heads\n",
    "    * $P(\\text{Exactly one H in 3 flips}) = 0.125 + 0.125 + 0.125 = 0.375$ \n",
    "* For an unfair coin, the $P(Heads) = 0.6$ , what is the probability that exactly one flip comes up heads\n",
    "    * $0.6 * 0.4 * 0.4 = 0.096$\n",
    "    * $P(\\text{Exactly one H in 3 flips}) = (0.6 * 0.4 * 0.4) + (0.4 * 0.6 * 0.4) + (0.4 * 0.4 * 0.6) = 0.096 + 0.096 + 0.096 = 0.288$\n",
    "\n",
    "Probability of Composite Events - Dice\n",
    "* For a fair die, $P(Dice = Even) = 0.5$\n",
    "* For a fair die, $P(Double) = (1/6 * 1/6) * 6 = 0.1667$"
   ]
  },
  {
   "cell_type": "markdown",
   "metadata": {},
   "source": [
    "## Conditional Probability\n",
    "\n",
    "Mathematical Conventions\n",
    "* $P(A)$ means \"the probability of A\"\n",
    "* $P(\\neg A)$ means \"the probability of NOT A\"\n",
    "* $P(A, B)$ means \"the probability of A and B\"\n",
    "* $P(A|B)$ means \"the probability of A given B\"\n",
    "\n",
    "Dependent probability\n",
    "* If A and B are NOT independent events, and P(A) = 0.2, P(B) = 0.1, and P(B|A) = 0.3 what is P(A|B)?\n",
    "    * To find P(A|B), we can use Bayes' Theorem = P(A|B) = P(B|A) * P(A)/P(B) = P(A|B) = 0.6"
   ]
  },
  {
   "cell_type": "markdown",
   "metadata": {},
   "source": []
  }
 ],
 "metadata": {
  "language_info": {
   "name": "python"
  }
 },
 "nbformat": 4,
 "nbformat_minor": 2
}
