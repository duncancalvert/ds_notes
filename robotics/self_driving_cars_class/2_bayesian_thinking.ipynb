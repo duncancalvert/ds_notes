{
 "cells": [
  {
   "cell_type": "markdown",
   "metadata": {},
   "source": [
    "# Course 2 - Bayesian Thinking\n",
    "* <ins>Bayes' Rule</ins>: named after the Rev. Thomas Bayes and allows for the possibility of an uncertain world, and the necessity of exploring said world to gather information to inform decisions.\n",
    "\n",
    "## Uncertainty\n",
    "* <ins>Control noise</ins>: response to a fixed input can change over time\n",
    "* <ins>State space</ins>: the set of all possible outcomes for a probabilistic event.\n",
    "    * For a coin the state space for a \"flip\" event can be written mathematically as {H, T}\n",
    "    * When calculating the truth table for $N$ events which each have a state space size of $x$, we need to make $x^N$ calculations. $x^N$ gets very big very fast as x or N get bigger (i.e. exponential complexity growth).\n",
    "\n",
    "---\n",
    "## Probability\n",
    "* Probability and Statistics have an inverse relationship:\n",
    "    * Statistics starts with data and infers the underlying causes of said data\n",
    "    * Probability starts with causes and infers the underlying data of those causes.\n",
    "\n",
    "Complementary Outcomes (i.e. Probability of an Opposite Event) - Coins\n",
    "* For an unfair coin, the $P(Heads) = 0.7$ , so the $P(Tails) = 1 - P(Heads)$\n",
    "\n",
    "Simple Probability of Composite Events (i.e. two events occurring in a row, independently)\n",
    "* For a fair coin, the probability of two heads in a row is $P(H, H) = 0.5 * 0.5 = 0.25$\n",
    "* For an unfair coin, the probability of heads is $P(H) = 0.6$ . So the joint probability of $P(H, H) = 0.6 * 0.6 = 0.36$\n",
    "* For an unfair coin, the probability of heads is $P(H) = 1.0$ . So the joint probability of $P(H, H) = 1.0$ and the joint probability of $P(H, T) = 1.0 * 0.0 = 0.0$\n",
    "\n",
    "Probability of Composite Events Continued - Coins\n",
    "* For a fair coin, thrown 3 times, what is the probability that exactly one flip comes up heads\n",
    "    * $P(\\text{Exactly one H in 3 flips}) = 0.125 + 0.125 + 0.125 = 0.375$ \n",
    "* For an unfair coin, the $P(Heads) = 0.6$ , what is the probability that exactly one flip comes up heads\n",
    "    * $0.6 * 0.4 * 0.4 = 0.096$\n",
    "    * $P(\\text{Exactly one H in 3 flips}) = (0.6 * 0.4 * 0.4) + (0.4 * 0.6 * 0.4) + (0.4 * 0.4 * 0.6) = 0.096 + 0.096 + 0.096 = 0.288$\n",
    "\n",
    "Probability of Composite Events - Dice\n",
    "* For a fair die, $P(Dice = Even) = 0.5$\n",
    "* For a fair die, $P(Double) = (1/6 * 1/6) * 6 = 0.1667$"
   ]
  },
  {
   "cell_type": "markdown",
   "metadata": {},
   "source": [
    "---\n",
    "## Conditional Probability\n",
    "\n",
    "Math Notation\n",
    "| Symbol | Usage | Interpretation |\n",
    "|--------|-------|----------------|\n",
    "| $P$    | $P(A)$    | The probability of event $A$ occurring |\n",
    "| $\\neg$ | $P(\\neg A)$ | the probability of NOT $A$ |\n",
    "|  \\| | $P(A\\|B)$    | the probability of $A$ occurring given that event $B$ occurs |\n",
    "| $,$  | $P(A, B)$    | the probability of event $A$ AND event $B$ both occurring |\n",
    "\n",
    "Dependent probability\n",
    "* If A and B are NOT independent events, and $P(A) = 0.2$, $P(B) = 0.1$, and $P(B|A) = 0.3$ what is P(A|B)?\n",
    "    * To find $P(A|B)$, we can use $\\text{Bayes' Theorem} = P(A|B) = P(B|A) * P(A)/P(B) = P(A|B) = 0.6$\n",
    "\n",
    "\n",
    "Law of Total Probability\n",
    "If $B_1, B_2, B_3$ is a partition of a sample space $S$, then for any event $A$:\n",
    "\n",
    "$P(A) = \\sum_i P(A \\cap B_i) = \\sum_i P(A|B_i) \\cdot P(B_i)$\n",
    "\n",
    "In other words, calculate the sum of all probabilities necessary to ensure all scenarios for specified events are included.\n",
    "\n"
   ]
  },
  {
   "cell_type": "markdown",
   "metadata": {},
   "source": [
    "---\n",
    "## Programming Probability\n",
    "* <ins>Encapsulation</ins>: Always run your probability code in a functional scope for code clarity\n",
    "\n",
    "#### Coin Flip Simulation\n"
   ]
  },
  {
   "cell_type": "code",
   "execution_count": 13,
   "metadata": {},
   "outputs": [
    {
     "name": "stdout",
     "output_type": "stream",
     "text": [
      "0.542\n"
     ]
    }
   ],
   "source": [
    "import random as rd\n",
    "\n",
    "def simulate_coin_flips(num_trials, p_heads=0.5):\n",
    "    '''\n",
    "    A function to simulate coin flips\n",
    "    \n",
    "    Args:\n",
    "        num_trials (int): The number of coin flip trials to simulate\n",
    "        p_heads (float): the probability of heads, default value is a fair coin, i.e. 0.5\n",
    "    Returns:\n",
    "        int: The percentage of heads from the trials\n",
    "    '''\n",
    "    heads = 0 # A counter for the number of heads\n",
    "    tails = 0 # A counter for the number of tails\n",
    "\n",
    "    # Simulate coin flips up to the num_trials specified\n",
    "    for i in range(num_trials):\n",
    "        # Collect a random number between [0,1]\n",
    "        random_number = rd.random()\n",
    "        # If the number is less than heads count it as heads\n",
    "        # Otherwise, count it as tails\n",
    "        if random_number < p_heads:\n",
    "            heads = heads + 1\n",
    "        else:\n",
    "            tails += 1\n",
    "    # Calculate the percentage of heads based on the number of \n",
    "    # heads and trials\n",
    "    percent_heads = heads / num_trials\n",
    "    return percent_heads\n",
    "    \n",
    "percentage = simulate_coin_flips(1000) # calling the function\n",
    "print(percentage)# Import the random module and reference it as rd\n"
   ]
  },
  {
   "cell_type": "markdown",
   "metadata": {},
   "source": [
    "#### Dice Roll Simulation"
   ]
  },
  {
   "cell_type": "code",
   "execution_count": 14,
   "metadata": {},
   "outputs": [
    {
     "name": "stdout",
     "output_type": "stream",
     "text": [
      "1 was rolled 148 times\n",
      "2 was rolled 171 times\n",
      "3 was rolled 160 times\n",
      "4 was rolled 179 times\n",
      "5 was rolled 151 times\n",
      "6 was rolled 191 times\n"
     ]
    }
   ],
   "source": [
    "import random as rd\n",
    "\n",
    "\n",
    "def simulate_dice_rolls(N):\n",
    "    \"\"\"\n",
    "    Simulates dice rolls\n",
    "    \n",
    "    Args:\n",
    "        N (int): The number of trials\n",
    "        \n",
    "    Returns:\n",
    "        list: roll counts [1,6]\n",
    "    \"\"\"\n",
    "    # Create a list to track the 6 options for the roll\n",
    "    roll_counts = [0,0,0,0,0,0]\n",
    "    for i in range(N):\n",
    "        # Randomly select a value from the list (1 to 6)\n",
    "        roll = rd.choice([1,2,3,4,5,6]) \n",
    "        # Recall indices start at 0 so we need to decrement\n",
    "        index = roll - 1\n",
    "        roll_counts[index] = roll_counts[index] + 1\n",
    "    return roll_counts\n",
    "\n",
    "def show_roll_data(roll_counts):\n",
    "    \"\"\"\n",
    "    Shows the dice roll data\n",
    "    \n",
    "    Args:\n",
    "        roll_counts (list): The roll counts stored in the list\n",
    "        \n",
    "    Returns:\n",
    "        list: roll counts [1,6]\n",
    "    \"\"\" \n",
    "    # Gets the number of sides of the dice and prints\n",
    "    # the side of the die. \n",
    "    # enumerate creates the position of the die and the\n",
    "    # list value\n",
    "    for dice_side, frequency in enumerate(roll_counts):\n",
    "        print(dice_side + 1, \"was rolled\", frequency, \"times\")\n",
    "        \n",
    "roll_data = simulate_dice_rolls(1000)\n",
    "show_roll_data(roll_data)"
   ]
  },
  {
   "cell_type": "code",
   "execution_count": 15,
   "metadata": {},
   "outputs": [
    {
     "data": {
      "image/png": "[encoded data removed]",
      "text/plain": [
       "<Figure size 640x480 with 1 Axes>"
      ]
     },
     "metadata": {},
     "output_type": "display_data"
    }
   ],
   "source": [
    "# Matplotlib is one of the most common plotting packages in Python\n",
    "# to use it more succinctly, you can call it   \n",
    "from matplotlib import pyplot as plt\n",
    "# This line is needed\n",
    "%matplotlib inline\n",
    "\n",
    "def visualize_one_die(roll_data):\n",
    "    \"\"\"\n",
    "    Visualizes the dice rolls\n",
    "    \n",
    "    Args:\n",
    "        roll_data (int): roll counts in a list from [1,6]\n",
    "        \n",
    "    Returns:\n",
    "        None - shows a plot with the x-axis is the dice values\n",
    "               and the y-axis as the frequency for t\n",
    "    \"\"\"\n",
    "    roll_outcomes = [1,2,3,4,5,6]\n",
    "    fig, ax = plt.subplots()\n",
    "    ax.bar(roll_outcomes, roll_data)\n",
    "    ax.set_xlabel(\"Value on Die\")\n",
    "    ax.set_ylabel(\"# rolls\")\n",
    "    ax.set_title(\"Simulated Counts of Rolls\")\n",
    "    plt.show()\n",
    "    \n",
    "roll_data = simulate_dice_rolls(500)\n",
    "visualize_one_die(roll_data)"
   ]
  },
  {
   "cell_type": "markdown",
   "metadata": {},
   "source": [
    "## Bayes' Rule\n",
    "\n",
    "$\\text{Bayes Rule = Prior Probability + Test Evidence -> Posterior Probability}$\n",
    "\n",
    "* <ins>Prior Probability</ins>: the probability before we ran a test\n",
    "* <ins>Posterior</ins>: the probabiility after running the test"
   ]
  },
  {
   "cell_type": "markdown",
   "metadata": {},
   "source": [
    "#### Question 1\n",
    "<ins>Question</ins>: 1% of the population has cancer. Given that there is a 90% chance that you will test positive if you have cancer and that there is a 90% chance you will test negative if you don't have cancer, what is the probability that you have cancer if you test positive (i.e. $P(Cancer|Positive)$?\n",
    "\n",
    "<ins>Answer</ins>: 8.33%\n",
    "* priors: \n",
    "    * $P(Cancer) = 0.01 = 1\\%$\n",
    "    * $P(\\text{Positive Result}|Cancer) = 0.9 = 90\\% $\n",
    "    * $P(\\text{Positive Result}|\\neg Cancer) = 0.1 = 10\\% $\n",
    "    * $P(\\text{Negative Result}|\\neg Cancer) = 0.9 = 90\\% $\n",
    "    * $P(\\neg Cancer) = 0.99 = 99\\%$\n",
    "* posterior: \n",
    "    * $P(Cancer|\\text{Positive Result}) = P(C) * P(\\text{Positive Result}|Cancer) = 0.01 * 0.9 = 0.009$\n",
    "    * $P(\\neg Cancer|\\text{Positive Result})$ = $P(\\neg Cancer) * P(Positive|\\neg Cancer) = 0.99 * 0.1 = 0.099$\n",
    "\n"
   ]
  },
  {
   "cell_type": "markdown",
   "metadata": {},
   "source": []
  }
 ],
 "metadata": {
  "kernelspec": {
   "display_name": ".venv",
   "language": "python",
   "name": "python3"
  },
  "language_info": {
   "codemirror_mode": {
    "name": "ipython",
    "version": 3
   },
   "file_extension": ".py",
   "mimetype": "text/x-python",
   "name": "python",
   "nbconvert_exporter": "python",
   "pygments_lexer": "ipython3",
   "version": "3.13.2"
  }
 },
 "nbformat": 4,
 "nbformat_minor": 2
}
