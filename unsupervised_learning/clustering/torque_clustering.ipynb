{
 "cells": [
  {
   "cell_type": "markdown",
   "metadata": {},
   "source": [
    "# Torque Clustering\n",
    "\n",
    "\"Researchers at the University of Technology Sydney developed Torque Clustering, a novel unsupervised learning algorithm that outperforms traditional methods with a 97.7 percent average adjusted mutual information score across 1,000 datasets\" - Data Points@DeepLearning.AI\n",
    "\n",
    "### Notes\n",
    "* There is quite a lot of disagreement online regarding if this new clustering algorithm is overblown\n",
    "* The official implementation is not in Python and not open-source, therefore making it out of step with much of the rest of the data science community.\n",
    "\n",
    "### References:\n",
    "* [Truly autonomous AI is on the horizon](https://www.uts.edu.au/news/tech-design/truly-autonomous-ai-horizon?utm_campaign=Data%20Points&utm_medium=email&_hsenc=p2ANqtz-9dK_KYzPjMzjxAjTWXE6Ja0-k018mkINPB3J7auknBaH3Dp0mTdUhOiIrYmeVfCJLUHvwip_sZhGTzPLACsSOdlcSLRw&_hsmi=347420249&utm_content=347420249&utm_source=hs_email)\n",
    "* [Autonomous clustering by fast find of mass and distance peaks (IEEE Paper)](https://ieeexplore.ieee.org/document/10856563?utm_campaign=Data%20Points&utm_medium=email&_hsenc=p2ANqtz-8YscevJlMpqiNAW4TUsrham7BFcFILGcTzSHRGXCfLx6_S6WwlFKdbOsATK87f34ER5LkYOwkRM3bLYnn2YHYzz9ofjA&_hsmi=347420249&utm_content=347420249&utm_source=hs_email)\n",
    "* [The official implementation of Torque Clustering Algorithm](https://github.com/JieYangBruce/TorqueClustering)\n",
    "\n"
   ]
  },
  {
   "cell_type": "code",
   "execution_count": null,
   "metadata": {},
   "outputs": [],
   "source": []
  },
  {
   "cell_type": "markdown",
   "metadata": {},
   "source": []
  }
 ],
 "metadata": {
  "kernelspec": {
   "display_name": ".venv",
   "language": "python",
   "name": "python3"
  },
  "language_info": {
   "codemirror_mode": {
    "name": "ipython",
    "version": 3
   },
   "file_extension": ".py",
   "mimetype": "text/x-python",
   "name": "python",
   "nbconvert_exporter": "python",
   "pygments_lexer": "ipython3",
   "version": "3.13.2"
  }
 },
 "nbformat": 4,
 "nbformat_minor": 2
}
