{
 "cells": [
  {
   "cell_type": "markdown",
   "metadata": {},
   "source": [
    "# Reinforcement Learning Notes"
   ]
  },
  {
   "cell_type": "markdown",
   "metadata": {},
   "source": [
    "## Best Books\n",
    "* [Reinforcement Learning: An Introduction (Second Edition) by Richard Sutton and Andrew G Barto](https://www.amazon.com/dp/0262039249/ref=mes-dp?_encoding=UTF8&pd_rd_w=IWtbN&content-id=amzn1.sym.7d2923e8-7496-46a5-862d-8ef28e908025&pf_rd_p=7d2923e8-7496-46a5-862d-8ef28e908025&pf_rd_r=6C54AK5HWRKA8MRWP2AH&pd_rd_wg=9hWAm&pd_rd_r=182783cf-83bb-4191-ba76-799f7c909cfb)"
   ]
  },
  {
   "cell_type": "markdown",
   "metadata": {},
   "source": [
    "## Open Issues in the Field\n",
    "* Exploration-exploitation dilemma\n",
    "* Sample efficiency\n",
    "* Reward design complexity\n",
    "* Generalization issues\n",
    "* High computational resource requirements, especially when simulating complex environments or processing high-dimensional data\n",
    "* Lack of explainability in RL models"
   ]
  },
  {
   "cell_type": "markdown",
   "metadata": {},
   "source": []
  }
 ],
 "metadata": {
  "language_info": {
   "name": "python"
  }
 },
 "nbformat": 4,
 "nbformat_minor": 2
}
