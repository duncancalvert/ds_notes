{
 "cells": [
  {
   "cell_type": "markdown",
   "metadata": {},
   "source": [
    "# XML to XLSX Processing Script"
   ]
  },
  {
   "cell_type": "markdown",
   "metadata": {},
   "source": [
    "## Library Imports"
   ]
  },
  {
   "cell_type": "code",
   "execution_count": 2,
   "metadata": {},
   "outputs": [],
   "source": [
    "import xml.etree.ElementTree as ET\n",
    "import openpyxl\n",
    "import os"
   ]
  },
  {
   "cell_type": "code",
   "execution_count": null,
   "metadata": {},
   "outputs": [],
   "source": [
    "def parse_dtsx_to_xlsx(dtsx_file, output_xlsx):\n",
    "    \"\"\"Parses a DTSX (XML) file and writes its Executables (Tasks) data to an XLSX file.\"\"\"\n",
    "    try:\n",
    "        tree = ET.parse(dtsx_file)\n",
    "        root = tree.getroot()\n",
    "\n",
    "        # Create an Excel workbook and add a worksheet\n",
    "        wb = openpyxl.Workbook()\n",
    "        ws = wb.active\n",
    "        ws.title = \"SSIS Package Details\"\n",
    "        \n",
    "        # Define headers for the Excel sheet\n",
    "        headers = [\"Executable Name\", \"Type\", \"Description\"]\n",
    "        ws.append(headers)\n",
    "        \n",
    "        # Define the SSIS namespace\n",
    "        namespace = {\"DTS\": \"www.microsoft.com/SqlServer/Dts\"}\n",
    "        \n",
    "        # Extract Executables (Tasks)\n",
    "        for executable in root.findall(\".//DTS:Executable\", namespace):\n",
    "            name = executable.get(f\"{{{namespace['DTS']}}}ObjectName\", \"Unknown\")\n",
    "            task_type = executable.get(f\"{{{namespace['DTS']}}}ExecutableType\", \"Unknown\")\n",
    "            description = executable.get(f\"{{{namespace['DTS']}}}Description\", \"No Description\")\n",
    "            \n",
    "            ws.append([name, task_type, description])\n",
    "\n",
    "        # Save the extracted data to an XLSX file\n",
    "        wb.save(output_xlsx)\n",
    "        return f\"✅ Successfully saved: {output_xlsx}\"\n",
    "\n",
    "    except Exception as e:\n",
    "        return f\"❌ Error processing {dtsx_file}: {e}\"\n",
    "\n",
    "def process_directory(directory):\n",
    "    \"\"\"Processes all DTSX (XML) files in a given directory.\"\"\"\n",
    "    if not os.path.exists(directory):\n",
    "        print(f\"❌ Directory '{directory}' not found.\")\n",
    "        return\n",
    "\n",
    "    for file in os.listdir(directory):\n",
    "        if file.lower().endswith(\".dtsx\"):\n",
    "            dtsx_path = os.path.join(directory, file)\n",
    "            xlsx_path = os.path.join(directory, os.path.splitext(file)[0] + \".xlsx\")\n",
    "            print(f\"📂 Processing: {dtsx_path} → {xlsx_path}\")\n",
    "            parse_dtsx_to_xlsx(dtsx_path, xlsx_path)"
   ]
  },
  {
   "cell_type": "code",
   "execution_count": 4,
   "metadata": {},
   "outputs": [
    {
     "name": "stdout",
     "output_type": "stream",
     "text": [
      "📂 Processing: /Users/attis/VS_Code_Repos/ds_notes-1/test_data/Lesson 1.dtsx → /Users/attis/VS_Code_Repos/ds_notes-1/test_data/Lesson 1.xlsx\n",
      "✅ Successfully saved: /Users/attis/VS_Code_Repos/ds_notes-1/test_data/Lesson 1.xlsx\n"
     ]
    }
   ],
   "source": [
    "process_directory(\"/Users/attis/VS_Code_Repos/ds_notes-1/test_data\")"
   ]
  },
  {
   "cell_type": "markdown",
   "metadata": {},
   "source": []
  }
 ],
 "metadata": {
  "kernelspec": {
   "display_name": ".venv",
   "language": "python",
   "name": "python3"
  },
  "language_info": {
   "codemirror_mode": {
    "name": "ipython",
    "version": 3
   },
   "file_extension": ".py",
   "mimetype": "text/x-python",
   "name": "python",
   "nbconvert_exporter": "python",
   "pygments_lexer": "ipython3",
   "version": "3.13.2"
  }
 },
 "nbformat": 4,
 "nbformat_minor": 2
}
