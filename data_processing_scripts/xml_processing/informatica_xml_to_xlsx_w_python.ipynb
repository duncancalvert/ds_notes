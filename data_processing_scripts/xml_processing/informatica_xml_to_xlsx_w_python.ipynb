{
 "cells": [
  {
   "cell_type": "markdown",
   "metadata": {},
   "source": [
    "# XML to XLSX Processing Script"
   ]
  },
  {
   "cell_type": "markdown",
   "metadata": {},
   "source": [
    "## Library Imports"
   ]
  },
  {
   "cell_type": "code",
   "execution_count": 2,
   "metadata": {},
   "outputs": [],
   "source": [
    "import xml.etree.ElementTree as ET\n",
    "import openpyxl\n",
    "import os"
   ]
  },
  {
   "cell_type": "code",
   "execution_count": 4,
   "metadata": {},
   "outputs": [
    {
     "name": "stdout",
     "output_type": "stream",
     "text": [
      "{'workflow_name': None, 'session_names': [], 'mappings': []}\n"
     ]
    }
   ],
   "source": [
    "import xml.etree.ElementTree as ET\n",
    "\n",
    "def parse_informatica_xml(xml_file):\n",
    "    \"\"\"\n",
    "    Parses an Informatica XML file and extracts relevant information.\n",
    "    \n",
    "    Args:\n",
    "        xml_file (str): The path to the Informatica XML file.\n",
    "    \n",
    "    Returns:\n",
    "        dict: A dictionary containing the extracted information.\n",
    "    \"\"\"\n",
    "    tree = ET.parse(xml_file)\n",
    "    root = tree.getroot()\n",
    "    \n",
    "    # Example: Extracting workflow and session names\n",
    "    workflow_name = root.find(\".//WORKFLOW\").get(\"NAME\") if root.find(\".//WORKFLOW\") is not None else None\n",
    "    session_names = [session.get(\"NAME\") for session in root.findall(\".//SESSION\")]\n",
    "    \n",
    "    # Example: Extracting mapping names and sources\n",
    "    mappings = []\n",
    "    for mapping_element in root.findall(\".//MAPPING\"):\n",
    "        mapping_name = mapping_element.get(\"NAME\")\n",
    "        sources = [source.get(\"NAME\") for source in mapping_element.findall(\".//SOURCE\")]\n",
    "        mappings.append({\"name\": mapping_name, \"sources\": sources})\n",
    "    \n",
    "    extracted_data = {\n",
    "        \"workflow_name\": workflow_name,\n",
    "        \"session_names\": session_names,\n",
    "        \"mappings\": mappings,\n",
    "    }\n",
    "    \n",
    "    return extracted_data\n",
    "\n",
    "# Example usage:\n",
    "xml_file_path = \"/Users/attis/VS_Code_Repos/ds_notes-1/test_data/informatica_xml.xml\"  # Replace with your XML file path\n",
    "parsed_data = parse_informatica_xml(xml_file_path)\n",
    "\n",
    "# Print the extracted data\n",
    "print(parsed_data)"
   ]
  },
  {
   "cell_type": "code",
   "execution_count": 10,
   "metadata": {},
   "outputs": [
    {
     "name": "stdout",
     "output_type": "stream",
     "text": [
      "Successfully converted /Users/attis/VS_Code_Repos/ds_notes-1/test_data/books.xml to /Users/attis/VS_Code_Repos/ds_notes-1/test_data/books.xlsx\n"
     ]
    }
   ],
   "source": [
    "process_directory(\"/Users/attis/VS_Code_Repos/ds_notes-1/test_data/\")"
   ]
  },
  {
   "cell_type": "markdown",
   "metadata": {},
   "source": []
  }
 ],
 "metadata": {
  "kernelspec": {
   "display_name": ".venv",
   "language": "python",
   "name": "python3"
  },
  "language_info": {
   "codemirror_mode": {
    "name": "ipython",
    "version": 3
   },
   "file_extension": ".py",
   "mimetype": "text/x-python",
   "name": "python",
   "nbconvert_exporter": "python",
   "pygments_lexer": "ipython3",
   "version": "3.13.2"
  }
 },
 "nbformat": 4,
 "nbformat_minor": 2
}
