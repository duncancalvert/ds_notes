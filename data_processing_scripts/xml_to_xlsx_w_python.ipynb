{
 "cells": [
  {
   "cell_type": "markdown",
   "metadata": {},
   "source": [
    "# XML to XLSX Processing Script"
   ]
  },
  {
   "cell_type": "markdown",
   "metadata": {},
   "source": [
    "## Library Imports"
   ]
  },
  {
   "cell_type": "code",
   "execution_count": 6,
   "metadata": {},
   "outputs": [],
   "source": [
    "import xml.etree.ElementTree as ET\n",
    "import openpyxl\n",
    "import os"
   ]
  },
  {
   "cell_type": "code",
   "execution_count": null,
   "metadata": {},
   "outputs": [],
   "source": [
    "def xml_to_xlsx(xml_file, xlsx_file):\n",
    "    # Parse the XML file\n",
    "    tree = ET.parse(xml_file)\n",
    "    root = tree.getroot()\n",
    "    \n",
    "    # Create a new Excel workbook and sheet\n",
    "    wb = openpyxl.Workbook()\n",
    "    ws = wb.active\n",
    "    \n",
    "    # Extract column headers from the first element\n",
    "    headers = [elem.tag for elem in root[0]]\n",
    "    ws.append(headers)\n",
    "    \n",
    "    # Extract data rows\n",
    "    for item in root:\n",
    "        row = [elem.text for elem in item]\n",
    "        ws.append(row)\n",
    "    \n",
    "    # Save the Excel file\n",
    "    wb.save(xlsx_file)\n",
    "    print(f\"Successfully converted {xml_file} to {xlsx_file}\")\n",
    "    \n",
    "    \n",
    "def process_directory(directory):\n",
    "    for file in os.listdir(directory):\n",
    "        if file.endswith(\".xml\"):\n",
    "            xml_file = os.path.join(directory, file)\n",
    "            xlsx_file = os.path.join(directory, file.replace(\".xml\", \".xlsx\"))\n",
    "            xml_to_xlsx(xml_file, xlsx_file)"
   ]
  },
  {
   "cell_type": "code",
   "execution_count": 7,
   "metadata": {},
   "outputs": [
    {
     "name": "stdout",
     "output_type": "stream",
     "text": [
      "Successfully converted /Users/attis/VS_Code_Repos/ds_notes-1/data_processing_scripts/books.xml to /Users/attis/VS_Code_Repos/ds_notes-1/data_processing_scripts/books.xlsx\n",
      "Successfully converted /Users/attis/VS_Code_Repos/ds_notes-1/data_processing_scripts/books copy.xml to /Users/attis/VS_Code_Repos/ds_notes-1/data_processing_scripts/books copy.xlsx\n"
     ]
    }
   ],
   "source": [
    "process_directory(\"/Users/attis/VS_Code_Repos/ds_notes-1/data_processing_scripts\")"
   ]
  },
  {
   "cell_type": "markdown",
   "metadata": {},
   "source": []
  }
 ],
 "metadata": {
  "kernelspec": {
   "display_name": ".venv",
   "language": "python",
   "name": "python3"
  },
  "language_info": {
   "codemirror_mode": {
    "name": "ipython",
    "version": 3
   },
   "file_extension": ".py",
   "mimetype": "text/x-python",
   "name": "python",
   "nbconvert_exporter": "python",
   "pygments_lexer": "ipython3",
   "version": "3.13.2"
  }
 },
 "nbformat": 4,
 "nbformat_minor": 2
}
